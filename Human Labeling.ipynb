{
 "cells": [
  {
   "cell_type": "markdown",
   "metadata": {},
   "source": [
    "# Human labeling"
   ]
  },
  {
   "cell_type": "code",
   "execution_count": 1,
   "metadata": {},
   "outputs": [],
   "source": [
    "import numpy as np\n",
    "import pandas as pd\n",
    "import matplotlib.pyplot as pyplot\n",
    "import matplotlib, seaborn\n",
    "import h5py\n",
    "import scipy\n"
   ]
  },
  {
   "cell_type": "code",
   "execution_count": 2,
   "metadata": {},
   "outputs": [],
   "source": [
    "# check the path \n",
    "\n",
    "dataset =         pd.read_hdf(\"/home/kmisiunas/Data/DNA_barcode/dataset.hdf5\")\n",
    "datasetTestEven = pd.read_hdf(\"/home/kmisiunas/Data/DNA_barcode/datasetTestEven.hdf5\")\n",
    "datasetTestOdd =  pd.read_hdf(\"/home/kmisiunas/Data/DNA_barcode/datasetTestOdd.hdf5\")\n",
    "datasetTestMix =  pd.read_hdf(\"/home/kmisiunas/Data/DNA_barcode/datasetTestMix.hdf5\")\n",
    "datasetWithAntibodies =  pd.read_hdf(\"/home/kmisiunas/Data/DNA_barcode/datasetIndividualWithAntibodies.hdf5\")\n",
    "datasetMultiplexed =  pd.read_hdf(\"/home/kmisiunas/Data/DNA_barcode/datasetMultiplexed.hdf5\")\n",
    "datasetExtra =    pd.read_hdf(\"/home/kmisiunas/Data/DNA_barcode/datasetExtra.hdf5\")\n",
    "\n",
    "def saveAllDatasets():\n",
    "    dataset.to_hdf(\"/home/kmisiunas/Data/DNA_barcode/dataset.hdf5\", \"single\", mode = 'w')\n",
    "    datasetTestOdd.to_hdf(\"/home/kmisiunas/Data/DNA_barcode/datasetTestOdd.hdf5\", \"single\", mode = 'w')\n",
    "    datasetTestEven.to_hdf(\"/home/kmisiunas/Data/DNA_barcode/datasetTestEven.hdf5\", \"single\", mode = 'w')\n",
    "    datasetTestMix.to_hdf(\"/home/kmisiunas/Data/DNA_barcode/datasetTestMix.hdf5\", \"single\", mode = 'w')\n",
    "    datasetWithAntibodies.to_hdf(\"/home/kmisiunas/Data/DNA_barcode/datasetIndividualWithAntibodies.hdf5\", \"single\", mode = 'w')\n",
    "    datasetMultiplexed.to_hdf(\"/home/kmisiunas/Data/DNA_barcode/datasetMultiplexed.hdf5\", \"single\", mode = 'w')"
   ]
  },
  {
   "cell_type": "code",
   "execution_count": 12,
   "metadata": {},
   "outputs": [],
   "source": [
    "# save old human labels\n",
    "\n",
    "dataset.human_barcode.to_csv(\"human_labels_2018-01-26_karolis.csv\")"
   ]
  },
  {
   "cell_type": "code",
   "execution_count": 3,
   "metadata": {},
   "outputs": [
    {
     "data": {
      "application/vnd.jupyter.widget-view+json": {
       "model_id": "29982d5dde3442538fe57270e86db79c",
       "version_major": 2,
       "version_minor": 0
      },
      "text/plain": [
       "A Jupyter Widget"
      ]
     },
     "metadata": {},
     "output_type": "display_data"
    },
    {
     "data": {
      "application/vnd.jupyter.widget-view+json": {
       "model_id": "d6466c85eeaa42f9ae6b055ebc2e64aa",
       "version_major": 2,
       "version_minor": 0
      },
      "text/plain": [
       "A Jupyter Widget"
      ]
     },
     "metadata": {},
     "output_type": "display_data"
    },
    {
     "data": {
      "application/vnd.jupyter.widget-view+json": {
       "model_id": "d407f0458d104c7ca1816d735e7ed3e1",
       "version_major": 2,
       "version_minor": 0
      },
      "text/plain": [
       "A Jupyter Widget"
      ]
     },
     "metadata": {},
     "output_type": "display_data"
    }
   ],
   "source": [
    "from IPython.display import display\n",
    "import ipywidgets as widgets\n",
    "from IPython import display as dp\n",
    "\n",
    "labels = np.array(['000', '001', '010', '011', '100', '101', '110', '111'])\n",
    "\n",
    "ds = dataset \n",
    "ds[\"human_barcode\"] = ''\n",
    "\n",
    "selection = ds[ds.Filter].sample()\n",
    "last_selection = selection\n",
    "\n",
    "button_back = widgets.Button(description=\"< Back\")\n",
    "button_skip = widgets.Button(description=\"Skip >\")\n",
    "button_barcodes = list( [widgets.Button(description=name) for name in labels])\n",
    "\n",
    "out = widgets.Output()\n",
    "\n",
    "def formatHumanImpot(text):\n",
    "    \"maked database easier to read\"\n",
    "    if text == \"Skip >\": return \"skip\"\n",
    "    else: return text\n",
    "\n",
    "def plot():\n",
    "    with out:\n",
    "        #pyplot.clear_output(True)\n",
    "        dp.clear_output(wait=True)\n",
    "        pyplot.title(\"n=\"+str((ds.human_barcode != '').sum()))\n",
    "        pyplot.plot(selection.iloc[0].trace)\n",
    "        pyplot.show()\n",
    "    \n",
    "# add functionality\n",
    "def on_button_next(button):\n",
    "    global selection, last_selection, ds\n",
    "    # add choise\n",
    "    choise = formatHumanImpot( button.description )\n",
    "    ds.at[selection.index[0], \"human_barcode\"] = choise\n",
    "    # change plot\n",
    "    last_selection = selection\n",
    "    selection = ds[ds.Filter].sample()\n",
    "    #print(\"Button clicked.\")\n",
    "    plot()\n",
    "        \n",
    "def on_button_back(button):\n",
    "    global selection, last_selection, ds\n",
    "    # change plot\n",
    "    selection = last_selection\n",
    "    plot()\n",
    "    \n",
    "button_back.on_click(on_button_back)\n",
    "button_skip.on_click(on_button_next)\n",
    "for button in button_barcodes:\n",
    "    button.on_click(on_button_next)\n",
    "\n",
    "# diplay all \n",
    "display(\n",
    "    widgets.HBox([button_back, button_skip]),\n",
    "    widgets.HBox(button_barcodes[:])\n",
    ")\n",
    "\n",
    "\n",
    "plot()    \n",
    "out"
   ]
  },
  {
   "cell_type": "code",
   "execution_count": 8,
   "metadata": {},
   "outputs": [],
   "source": [
    "# save all\n",
    "\n",
    "dataset = ds\n",
    "\n",
    "saveAllDatasets()"
   ]
  },
  {
   "cell_type": "code",
   "execution_count": 11,
   "metadata": {},
   "outputs": [
    {
     "name": "stdout",
     "output_type": "stream",
     "text": [
      "Correct  :  220\n",
      "Guesses  :  225\n",
      "Skips    :  275\n",
      "Total    :  500\n",
      "Precision:  0.977777777778\n",
      "Recall   :  0.44\n",
      "Data dis.:  0.55\n"
     ]
    }
   ],
   "source": [
    "sel  = (ds.human_barcode != '')\n",
    "\n",
    "correct = ds[sel].barcode == ds[sel].human_barcode\n",
    "guesses = ds[sel].human_barcode != 'skip'\n",
    "skips = ds[sel].human_barcode == 'skip'\n",
    "\n",
    "\n",
    "print(\"Correct  : \", correct.sum())\n",
    "print(\"Guesses  : \", guesses.sum())\n",
    "print(\"Skips    : \", skips.sum())\n",
    "print(\"Total    : \", guesses.sum() + skips.sum())\n",
    "print(\"Precision: \", correct.sum()/guesses.sum())\n",
    "print(\"Recall   : \", correct.sum()/(guesses.sum()+ skips.sum()))\n",
    "print(\"Data dis.: \", skips.sum()/(guesses.sum()+ skips.sum()))\n"
   ]
  },
  {
   "cell_type": "markdown",
   "metadata": {},
   "source": [
    "# Sensing region "
   ]
  },
  {
   "cell_type": "code",
   "execution_count": 7,
   "metadata": {},
   "outputs": [
    {
     "name": "stdout",
     "output_type": "stream",
     "text": [
      "(41936, 27)\n",
      "(41560, 28)\n"
     ]
    },
    {
     "data": {
      "text/plain": [
       "(83496, 28)"
      ]
     },
     "execution_count": 7,
     "metadata": {},
     "output_type": "execute_result"
    }
   ],
   "source": [
    "# prepare mixed dataset\n",
    "\n",
    "print( datasetWithAntibodies.shape )\n",
    "print( dataset.shape )\n",
    "\n",
    "ds = pd.concat([datasetWithAntibodies, dataset], ignore_index=True)\n",
    "ds.shape"
   ]
  },
  {
   "cell_type": "code",
   "execution_count": 71,
   "metadata": {},
   "outputs": [
    {
     "data": {
      "application/vnd.jupyter.widget-view+json": {
       "model_id": "2af529fda1c146c5b9cbcee235fb7e9c",
       "version_major": 2,
       "version_minor": 0
      },
      "text/plain": [
       "A Jupyter Widget"
      ]
     },
     "metadata": {},
     "output_type": "display_data"
    },
    {
     "data": {
      "application/vnd.jupyter.widget-view+json": {
       "model_id": "9e72a4e0e40f4dea84e42943f7112329",
       "version_major": 2,
       "version_minor": 0
      },
      "text/plain": [
       "A Jupyter Widget"
      ]
     },
     "metadata": {},
     "output_type": "display_data"
    },
    {
     "data": {
      "application/vnd.jupyter.widget-view+json": {
       "model_id": "36d48398172b43aeaf2994f760e8cc45",
       "version_major": 2,
       "version_minor": 0
      },
      "text/plain": [
       "A Jupyter Widget"
      ]
     },
     "metadata": {},
     "output_type": "display_data"
    }
   ],
   "source": [
    "from IPython.display import display\n",
    "import ipywidgets as widgets\n",
    "from IPython import display as dp\n",
    "\n",
    "labels = np.array(['Bound', 'UN-bound'])\n",
    "\n",
    "ds[\"human_binding\"] = ''\n",
    "\n",
    "selection = ds[ds.Filter].sample()\n",
    "last_selection = selection\n",
    "\n",
    "button_back = widgets.Button(description=\"< Back\")\n",
    "button_skip = widgets.Button(description=\"Skip >\")\n",
    "button_barcodes = list( [widgets.Button(description=name) for name in labels])\n",
    "\n",
    "out = widgets.Output()\n",
    "\n",
    "def formatHumanImpot(text):\n",
    "    \"maked database easier to read\"\n",
    "    if text == \"Skip >\": return \"skip\"\n",
    "    else: return text\n",
    "\n",
    "def plot():\n",
    "    with out:\n",
    "        #pyplot.clear_output(True)\n",
    "        dp.clear_output(wait=True)\n",
    "        pyplot.title(\"n=\"+str((ds.human_binding != '').sum()))\n",
    "        pyplot.plot(selection.iloc[0].trace)\n",
    "        pyplot.show()\n",
    "    \n",
    "# add functionality\n",
    "def on_button_next(button):\n",
    "    global selection, last_selection, ds\n",
    "    # add choise\n",
    "    choise = formatHumanImpot( button.description )\n",
    "    ds.at[selection.index[0], \"human_binding\"] = choise\n",
    "    # change plot\n",
    "    last_selection = selection\n",
    "    selection = ds[ds.Filter].sample()\n",
    "    #print(\"Button clicked.\")\n",
    "    plot()\n",
    "        \n",
    "def on_button_back(button):\n",
    "    global selection, last_selection, ds\n",
    "    # change plot\n",
    "    selection = last_selection\n",
    "    plot()\n",
    "    \n",
    "button_back.on_click(on_button_back)\n",
    "button_skip.on_click(on_button_next)\n",
    "for button in button_barcodes:\n",
    "    button.on_click(on_button_next)\n",
    "\n",
    "# diplay all \n",
    "display(\n",
    "    widgets.HBox([button_back, button_skip]),\n",
    "    widgets.HBox(button_barcodes[:])\n",
    ")\n",
    "\n",
    "\n",
    "plot()    \n",
    "out"
   ]
  },
  {
   "cell_type": "code",
   "execution_count": 13,
   "metadata": {},
   "outputs": [
    {
     "name": "stdout",
     "output_type": "stream",
     "text": [
      "Correct  :  203\n",
      "Guesses  :  218\n",
      "Skips    :  283\n",
      "Total    :  501\n",
      "Precision:  0.93119266055\n",
      "Recall   :  0.405189620758\n",
      "Data dis.:  0.564870259481\n"
     ]
    }
   ],
   "source": [
    "sel  = (ds.human_binding != '') & (~ds.human_binding.isna())\n",
    "\n",
    "correct = (ds[sel].Bound & (ds[sel].human_binding == 'Bound')) | ((~ds[sel].Bound) & (ds[sel].human_binding == 'UN-bound'))\n",
    "guesses = ds[sel].human_binding != 'skip'\n",
    "skips = ds[sel].human_binding == 'skip'\n",
    "\n",
    "\n",
    "print(\"Correct  : \", correct.sum())\n",
    "print(\"Guesses  : \", guesses.sum())\n",
    "print(\"Skips    : \", skips.sum())\n",
    "print(\"Total    : \", guesses.sum() + skips.sum())\n",
    "print(\"Precision: \", correct.sum()/guesses.sum())\n",
    "print(\"Recall   : \", correct.sum()/(guesses.sum()+ skips.sum()))\n",
    "print(\"Data dis.: \", skips.sum()/(guesses.sum()+ skips.sum()))\n"
   ]
  },
  {
   "cell_type": "code",
   "execution_count": 107,
   "metadata": {},
   "outputs": [
    {
     "data": {
      "image/png": "[encoded data removed]",
      "text/plain": [
       "<matplotlib.figure.Figure at 0x7f516f4ea128>"
      ]
     },
     "metadata": {},
     "output_type": "display_data"
    },
    {
     "name": "stdout",
     "output_type": "stream",
     "text": [
      "Human: Bound\n",
      "Label: True\n"
     ]
    }
   ],
   "source": [
    "# inspection\n",
    "\n",
    "sel  = (ds.human_binding != '') & (ds.human_binding != 'skip')\n",
    "\n",
    "i = i + 1\n",
    "\n",
    "pyplot.plot(ds[sel].iloc[i].trace)\n",
    "pyplot.show()\n",
    "print(\"Human:\", ds[sel].iloc[i].human_binding)\n",
    "print(\"Label:\", ds[sel].iloc[i].Bound)"
   ]
  },
  {
   "cell_type": "code",
   "execution_count": 14,
   "metadata": {},
   "outputs": [],
   "source": [
    "# save results\n",
    "\n",
    "ds[ [\"Bound\", \"human_binding\"]].to_csv(\"human_labels_binding_2018-01-26_karolis.csv\")"
   ]
  },
  {
   "cell_type": "code",
   "execution_count": 9,
   "metadata": {},
   "outputs": [],
   "source": [
    "#from_file = pd.read_csv(\"human_labels_binding_2018-01-26_karolis.csv\", index_col=0 )\n",
    "\n",
    "#ds['human_binding'] = from_file.human_binding."
   ]
  },
  {
   "cell_type": "code",
   "execution_count": null,
   "metadata": {},
   "outputs": [],
   "source": []
  }
 ],
 "metadata": {
  "kernelspec": {
   "display_name": "Python 3",
   "language": "python",
   "name": "python3"
  },
  "language_info": {
   "codemirror_mode": {
    "name": "ipython",
    "version": 3
   },
   "file_extension": ".py",
   "mimetype": "text/x-python",
   "name": "python",
   "nbconvert_exporter": "python",
   "pygments_lexer": "ipython3",
   "version": "3.6.4"
  }
 },
 "nbformat": 4,
 "nbformat_minor": 2
}

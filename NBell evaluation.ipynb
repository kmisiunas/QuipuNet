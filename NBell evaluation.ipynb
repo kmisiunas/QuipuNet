{
 "cells": [
  {
   "cell_type": "markdown",
   "metadata": {},
   "source": [
    "# NBell algorithm evaluation\n",
    "\n",
    "We estimate precision and recall for algorithm presented in Bell & Keyser paper [1]. We do not reevaluate their algorithm ourselves, but instead simply load the values they provided in the supplementary material."
   ]
  },
  {
   "cell_type": "code",
   "execution_count": 1,
   "metadata": {},
   "outputs": [
    {
     "name": "stderr",
     "output_type": "stream",
     "text": [
      "/home/kmisiunas/anaconda3/lib/python3.6/site-packages/h5py/__init__.py:36: FutureWarning: Conversion of the second argument of issubdtype from `float` to `np.floating` is deprecated. In future, it will be treated as `np.float64 == np.dtype(float).type`.\n",
      "  from ._conv import register_converters as _register_converters\n"
     ]
    }
   ],
   "source": [
    "# Imports\n",
    "\n",
    "import numpy as np\n",
    "import pandas as pd\n",
    "import matplotlib.pyplot as pyplot\n",
    "import matplotlib, seaborn\n",
    "import h5py\n",
    "import scipy\n",
    "import time\n",
    "import glob\n",
    "import os\n",
    "\n",
    "import Quipu\n",
    "from Quipu.tools import normaliseLength\n",
    "from Quipu import augment\n",
    "\n",
    "%matplotlib inline\n",
    "%config InlineBackend.figure_format='retina'\n",
    "\n",
    "# general plotting config\n",
    "font = {'family' : 'DejaVu Sans',\n",
    "        'weight' : 'regular',\n",
    "        'size'   : 10}\n",
    "matplotlib.rc('font', **font)"
   ]
  },
  {
   "cell_type": "code",
   "execution_count": 3,
   "metadata": {
    "code_folding": [
     0
    ]
   },
   "outputs": [
    {
     "name": "stdout",
     "output_type": "stream",
     "text": [
      "Fraction of used data:  0.707892204042\n"
     ]
    }
   ],
   "source": [
    "# load data from memory\n",
    "\n",
    "dataset =         pd.read_hdf(\"/home/kmisiunas/Data/DNA_barcode/dataset.hdf5\")\n",
    "datasetTestEven = pd.read_hdf(\"/home/kmisiunas/Data/DNA_barcode/datasetTestEven.hdf5\")\n",
    "datasetTestOdd =  pd.read_hdf(\"/home/kmisiunas/Data/DNA_barcode/datasetTestOdd.hdf5\")\n",
    "datasetTestMix =  pd.read_hdf(\"/home/kmisiunas/Data/DNA_barcode/datasetTestMix.hdf5\")\n",
    "datasetWithAntibodies =  pd.read_hdf(\"/home/kmisiunas/Data/DNA_barcode/datasetIndividualWithAntibodies.hdf5\")\n",
    "datasetMultiplexed =  pd.read_hdf(\"/home/kmisiunas/Data/DNA_barcode/datasetMultiplexed.hdf5\")\n",
    "datasetExtra =    pd.read_hdf(\"/home/kmisiunas/Data/DNA_barcode/datasetExtra.hdf5\")\n",
    "\n",
    "print(\"Fraction of used data: \", dataset.Filter.sum()/ len(dataset))"
   ]
  },
  {
   "cell_type": "code",
   "execution_count": 4,
   "metadata": {},
   "outputs": [
    {
     "name": "stdout",
     "output_type": "stream",
     "text": [
      "Data discarded:  0.8059143439836846\n",
      "Recall:  0.18198504418762745\n"
     ]
    },
    {
     "data": {
      "text/html": [
       "<div>\n",
       "<style scoped>\n",
       "    .dataframe tbody tr th:only-of-type {\n",
       "        vertical-align: middle;\n",
       "    }\n",
       "\n",
       "    .dataframe tbody tr th {\n",
       "        vertical-align: top;\n",
       "    }\n",
       "\n",
       "    .dataframe thead th {\n",
       "        text-align: right;\n",
       "    }\n",
       "</style>\n",
       "<table border=\"1\" class=\"dataframe\">\n",
       "  <thead>\n",
       "    <tr style=\"text-align: right;\">\n",
       "      <th></th>\n",
       "      <th>All</th>\n",
       "      <th>Correct</th>\n",
       "      <th>Correct (%)</th>\n",
       "    </tr>\n",
       "  </thead>\n",
       "  <tbody>\n",
       "    <tr>\n",
       "      <th>110</th>\n",
       "      <td>1465</td>\n",
       "      <td>1345</td>\n",
       "      <td>0.918089</td>\n",
       "    </tr>\n",
       "    <tr>\n",
       "      <th>111</th>\n",
       "      <td>1331</td>\n",
       "      <td>1303</td>\n",
       "      <td>0.978963</td>\n",
       "    </tr>\n",
       "    <tr>\n",
       "      <th>000</th>\n",
       "      <td>982</td>\n",
       "      <td>934</td>\n",
       "      <td>0.951120</td>\n",
       "    </tr>\n",
       "    <tr>\n",
       "      <th>011</th>\n",
       "      <td>613</td>\n",
       "      <td>558</td>\n",
       "      <td>0.910277</td>\n",
       "    </tr>\n",
       "    <tr>\n",
       "      <th>001</th>\n",
       "      <td>459</td>\n",
       "      <td>423</td>\n",
       "      <td>0.921569</td>\n",
       "    </tr>\n",
       "    <tr>\n",
       "      <th>010</th>\n",
       "      <td>456</td>\n",
       "      <td>413</td>\n",
       "      <td>0.905702</td>\n",
       "    </tr>\n",
       "    <tr>\n",
       "      <th>101</th>\n",
       "      <td>232</td>\n",
       "      <td>220</td>\n",
       "      <td>0.948276</td>\n",
       "    </tr>\n",
       "    <tr>\n",
       "      <th>100</th>\n",
       "      <td>172</td>\n",
       "      <td>158</td>\n",
       "      <td>0.918605</td>\n",
       "    </tr>\n",
       "    <tr>\n",
       "      <th>Total</th>\n",
       "      <td>5710</td>\n",
       "      <td>5354</td>\n",
       "      <td>0.937653</td>\n",
       "    </tr>\n",
       "  </tbody>\n",
       "</table>\n",
       "</div>"
      ],
      "text/plain": [
       "        All  Correct  Correct (%)\n",
       "110    1465     1345     0.918089\n",
       "111    1331     1303     0.978963\n",
       "000     982      934     0.951120\n",
       "011     613      558     0.910277\n",
       "001     459      423     0.921569\n",
       "010     456      413     0.905702\n",
       "101     232      220     0.948276\n",
       "100     172      158     0.918605\n",
       "Total  5710     5354     0.937653"
      ]
     },
     "execution_count": 4,
     "metadata": {},
     "output_type": "execute_result"
    }
   ],
   "source": [
    "# Cases by barcode \n",
    "\n",
    "nbCorrect = dataset[ dataset.nbell_barcode == dataset.barcode.apply(lambda x: int(x, 2)) ];\n",
    "nbAll = dataset[dataset.nbell_barcode < 8];\n",
    "\n",
    "\n",
    "nbIsolated = pd.DataFrame({\n",
    "    \"Correct\": nbCorrect.barcode.value_counts(),\n",
    "    \"All\"    : nbAll.barcode.value_counts(),\n",
    "    \"Correct (%)\": nbCorrect.barcode.value_counts() / nbAll.barcode.value_counts()\n",
    "})\n",
    "\n",
    "\n",
    "# add totals\n",
    "totals = pd.DataFrame({\n",
    "    \"Correct\": nbIsolated[\"Correct\"].sum(),\n",
    "    \"All\"    : nbIsolated[\"All\"].sum(),\n",
    "    \"Correct (%)\": nbCorrect.barcode.value_counts().sum() / nbAll.barcode.value_counts().sum()\n",
    "}, index =[\"Total\"])\n",
    "\n",
    "print(\"Data discarded: \", 1 - len(nbAll) / len(dataset[dataset.Filter]))\n",
    "print(\"Recall: \", len(nbCorrect) / len(dataset[dataset.Filter]))\n",
    "pd.concat( [nbIsolated,totals ])"
   ]
  },
  {
   "cell_type": "code",
   "execution_count": 255,
   "metadata": {},
   "outputs": [
    {
     "name": "stdout",
     "output_type": "stream",
     "text": [
      "5696/5710 [============================>.] - ETA: 0s"
     ]
    },
    {
     "data": {
      "text/plain": [
       "[0.076467507073391491, 0.98353765323992992]"
      ]
     },
     "execution_count": 255,
     "metadata": {},
     "output_type": "execute_result"
    }
   ],
   "source": [
    "model.evaluate(x = prepareTraces(nbAll).reshape(shapeX),\n",
    "               y = np.vstack( nbAll.barcode.apply(toCategories) )\n",
    "              )"
   ]
  },
  {
   "cell_type": "code",
   "execution_count": 5,
   "metadata": {},
   "outputs": [
    {
     "data": {
      "image/png": "[encoded data removed]",
      "text/plain": [
       "<matplotlib.figure.Figure at 0x7f331364c668>"
      ]
     },
     "metadata": {
      "image/png": {
       "height": 437,
       "width": 490
      }
     },
     "output_type": "display_data"
    }
   ],
   "source": [
    "# Confusion matrix for Nicks data\n",
    "\n",
    "from sklearn.metrics import confusion_matrix\n",
    "import itertools\n",
    "\n",
    "def plot_confusion_matrix(cm, classes,\n",
    "                          title='Confusion matrix',\n",
    "                          cmap=pyplot.cm.Blues):\n",
    "    \"This function prints and plots the confusion matrix.\"\n",
    "    cm = cm.astype('float') / cm.sum(axis=1)[:, np.newaxis]\n",
    "\n",
    "    pyplot.imshow(cm, interpolation='nearest', cmap=cmap)\n",
    "    pyplot.title(title)\n",
    "    pyplot.colorbar()\n",
    "    tick_marks = np.arange(len(classes))\n",
    "    pyplot.xticks(tick_marks, classes, rotation=45)\n",
    "    pyplot.yticks(tick_marks, classes)\n",
    "\n",
    "    fmt = '.2f' \n",
    "    thresh = cm.max() / 2.\n",
    "    for i, j in itertools.product(range(cm.shape[0]), range(cm.shape[1])):\n",
    "        pyplot.text(j, i, format(cm[i, j], fmt),\n",
    "                 horizontalalignment=\"center\",\n",
    "                 color=\"white\" if cm[i, j] > thresh else \"black\")\n",
    "\n",
    "    pyplot.tight_layout()\n",
    "    pyplot.ylabel('True label')\n",
    "    pyplot.xlabel('Predicted label')\n",
    "\n",
    "barcodeLabels = ['000','001','010','011','100','101','110','111']\n",
    "confusionMatrix = confusion_matrix(\n",
    "    nbAll.barcode.apply(lambda x: int(x, 2)),  # true\n",
    "    nbAll.nbell_barcode, # predict\n",
    "    labels=[0,1,2,3,4,5,6,7]\n",
    ")\n",
    "    \n",
    "pyplot.figure(figsize=(8, 6))\n",
    "plot_confusion_matrix(confusionMatrix, classes=barcodeLabels, title='Confusion matrix')"
   ]
  },
  {
   "cell_type": "markdown",
   "metadata": {},
   "source": [
    "## Bound state evaluation\n",
    "\n",
    "We have not imported these originally into the dataset. From NBell description:\n",
    "\n",
    "> The file timedevents gives the concatenated translocations after steps 1 and 2 in the analysis workflow ie before selection by ECD and removal of unfolded events (see Supplementary Section S2).  The events after steps 4 and 5 in analysis are given with each event in a separate file in order (see Supplementary Section S2).  The ionic current is given in nA.  The sampling frequency is 250kHz. The file peakinfo gives the automated barcode algorithm calls as described in Supplementary Section S2 for the separate files. The barcode \"20\" denotes a translocation which was unassigned due to step 9 in the barcode determination workflow and barcode \"40\" denotes a translocation which was unassigned due to step 11."
   ]
  },
  {
   "cell_type": "code",
   "execution_count": 44,
   "metadata": {},
   "outputs": [
    {
     "name": "stdout",
     "output_type": "stream",
     "text": [
      "/home/kmisiunas/Data/DNA_barcode/raw/individual_with_antibodies/011+BrdU(noAB)/NP40/Peak info.dat\n",
      "/home/kmisiunas/Data/DNA_barcode/raw/individual_with_antibodies/011+BrdU(noAB)/NP35/Peak info.dat\n",
      "/home/kmisiunas/Data/DNA_barcode/raw/individual_with_antibodies/011+BrdU(noAB)/NP39/Peak info.dat\n",
      "/home/kmisiunas/Data/DNA_barcode/raw/individual_with_antibodies/011+BrdU(noAB)/NP37/Peak info.dat\n",
      "/home/kmisiunas/Data/DNA_barcode/raw/individual_with_antibodies/011+BrdU(noAB)/NP41/Peak info.dat\n",
      "/home/kmisiunas/Data/DNA_barcode/raw/individual_with_antibodies/011+BrdU(noAB)/NP36/Peak info.dat\n",
      "/home/kmisiunas/Data/DNA_barcode/raw/individual_with_antibodies/011+BrdU(noAB)/NP38/Peak info.dat\n",
      "/home/kmisiunas/Data/DNA_barcode/raw/individual_with_antibodies/111+digoxigenin(ABbound)/NP34/Peak info.dat\n",
      "/home/kmisiunas/Data/DNA_barcode/raw/individual_with_antibodies/111+digoxigenin(ABbound)/NP32/Peak info.dat\n",
      "/home/kmisiunas/Data/DNA_barcode/raw/individual_with_antibodies/101+puromycin(ABbound)/NP27/Peak info.dat\n",
      "/home/kmisiunas/Data/DNA_barcode/raw/individual_with_antibodies/101+puromycin(ABbound)/NP30/Peak info.dat\n",
      "/home/kmisiunas/Data/DNA_barcode/raw/individual_with_antibodies/101+puromycin(ABbound)/NP26/Peak info.dat\n",
      "/home/kmisiunas/Data/DNA_barcode/raw/individual_with_antibodies/101+puromycin(ABbound)/NP29/Peak info.dat\n",
      "/home/kmisiunas/Data/DNA_barcode/raw/individual_with_antibodies/011+BrdU(ABbound)/NP33/Peak info.dat\n",
      "/home/kmisiunas/Data/DNA_barcode/raw/individual_with_antibodies/011+BrdU(ABbound)/NP31/Peak info.dat\n",
      "/home/kmisiunas/Data/DNA_barcode/raw/individual_with_antibodies/011+BrdU(ABbound)/NP32/Peak info.dat\n",
      "/home/kmisiunas/Data/DNA_barcode/raw/individual_with_antibodies/001+biotin(ABbound)/NP27/Peak info.dat\n",
      "/home/kmisiunas/Data/DNA_barcode/raw/individual_with_antibodies/001+biotin(ABbound)/NP28/Peak info.dat\n",
      "/home/kmisiunas/Data/DNA_barcode/raw/individual_with_antibodies/001+biotin(ABbound)/NP26/Peak info.dat\n",
      "/home/kmisiunas/Data/DNA_barcode/raw/individual_with_antibodies/001+biotin(ABbound)/NP29/Peak info.dat\n"
     ]
    }
   ],
   "source": [
    "files = pd.Series(\n",
    "    glob.glob(\"/home/kmisiunas/Data/DNA_barcode/raw/individual_with_antibodies/*/*/*\")\n",
    ")\n",
    "\n",
    "files = files[~files.str.contains(\"tdms\")]\n",
    "\n",
    "\n",
    "for file in files:\n",
    "    print(file )"
   ]
  },
  {
   "cell_type": "code",
   "execution_count": 32,
   "metadata": {},
   "outputs": [
    {
     "data": {
      "text/html": [
       "<div>\n",
       "<style scoped>\n",
       "    .dataframe tbody tr th:only-of-type {\n",
       "        vertical-align: middle;\n",
       "    }\n",
       "\n",
       "    .dataframe tbody tr th {\n",
       "        vertical-align: top;\n",
       "    }\n",
       "\n",
       "    .dataframe thead th {\n",
       "        text-align: right;\n",
       "    }\n",
       "</style>\n",
       "<table border=\"1\" class=\"dataframe\">\n",
       "  <thead>\n",
       "    <tr style=\"text-align: right;\">\n",
       "      <th></th>\n",
       "      <th>1st half peaks</th>\n",
       "      <th>2nd half peaks</th>\n",
       "      <th>Barcode</th>\n",
       "      <th>Positive barcode (1=true,0=false)</th>\n",
       "      <th>Unnamed: 4</th>\n",
       "    </tr>\n",
       "  </thead>\n",
       "  <tbody>\n",
       "    <tr>\n",
       "      <th>0</th>\n",
       "      <td>3</td>\n",
       "      <td>2</td>\n",
       "      <td>20</td>\n",
       "      <td>0</td>\n",
       "      <td>NaN</td>\n",
       "    </tr>\n",
       "    <tr>\n",
       "      <th>1</th>\n",
       "      <td>1</td>\n",
       "      <td>3</td>\n",
       "      <td>2</td>\n",
       "      <td>1</td>\n",
       "      <td>NaN</td>\n",
       "    </tr>\n",
       "    <tr>\n",
       "      <th>2</th>\n",
       "      <td>1</td>\n",
       "      <td>3</td>\n",
       "      <td>2</td>\n",
       "      <td>1</td>\n",
       "      <td>NaN</td>\n",
       "    </tr>\n",
       "    <tr>\n",
       "      <th>3</th>\n",
       "      <td>3</td>\n",
       "      <td>1</td>\n",
       "      <td>2</td>\n",
       "      <td>1</td>\n",
       "      <td>NaN</td>\n",
       "    </tr>\n",
       "    <tr>\n",
       "      <th>4</th>\n",
       "      <td>1</td>\n",
       "      <td>3</td>\n",
       "      <td>2</td>\n",
       "      <td>1</td>\n",
       "      <td>NaN</td>\n",
       "    </tr>\n",
       "  </tbody>\n",
       "</table>\n",
       "</div>"
      ],
      "text/plain": [
       "   1st half peaks  2nd half peaks  Barcode  Positive barcode (1=true,0=false)  \\\n",
       "0               3               2       20                                  0   \n",
       "1               1               3        2                                  1   \n",
       "2               1               3        2                                  1   \n",
       "3               3               1        2                                  1   \n",
       "4               1               3        2                                  1   \n",
       "\n",
       "   Unnamed: 4  \n",
       "0         NaN  \n",
       "1         NaN  \n",
       "2         NaN  \n",
       "3         NaN  \n",
       "4         NaN  "
      ]
     },
     "execution_count": 32,
     "metadata": {},
     "output_type": "execute_result"
    }
   ],
   "source": [
    "def loadBindingInfo(file):\n",
    "    \"NBell format\"\n",
    "    return pd.read_table(file)\n",
    "    \n",
    "loadBindingInfo( files.iloc[0] ).head()"
   ]
  },
  {
   "cell_type": "markdown",
   "metadata": {},
   "source": [
    "Ok, there is no record if barcode is bound or not. Will have to rely on the reported numbers in the supplementary PDF. From it:\n",
    "\n",
    "\n",
    "> <img src=\"images/table_s3.png\" width=\"600\">\n"
   ]
  },
  {
   "cell_type": "code",
   "execution_count": 63,
   "metadata": {},
   "outputs": [
    {
     "name": "stdout",
     "output_type": "stream",
     "text": [
      "Total assigned events: 5731\n",
      "Total events after filtration: 28117\n",
      "Data discarded:  0.796173133691\n",
      "Accuracy (weighted): 0.940189670215\n",
      "Accuracy (simple): 0.90765\n"
     ]
    }
   ],
   "source": [
    "# computable table\n",
    "\n",
    "table_s3 = pd.DataFrame({\n",
    "    \"Assigned_events\": np.array([115, 823, 174, 260, 360, 82, 195, 642, 152, 61, 408, 271, 73, 85, 321, 326, 244, 415, 457, 267]),\n",
    "    \"Bound_prediction\": np.array([0.922, 0.984, 0.988, 0.992, 0.887, 0.949, 0.909, 0.908, 0.962, 0.982, 0.958, 1.0, 1.0, 0.012, 0.039, 0.039, 0.037, 0.051, 0.063, 0.047 ]),\n",
    "    \"Bound\": np.array([1,1,1,1,1,1,1,1,1,1,1,1,0,0,0,0,0,0,0,0])\n",
    "})\n",
    "\n",
    "accuracy = np.abs( table_s3.Bound_prediction - (1 - table_s3.Bound) )\n",
    "\n",
    "\n",
    "print(\"Total assigned events:\",  table_s3.Assigned_events.sum())\n",
    "print(\"Total events after filtration:\", len(datasetWithAntibodies[datasetWithAntibodies.Filter]))\n",
    "print(\"Data discarded: \", 1.0 - table_s3.Assigned_events.sum() / len(datasetWithAntibodies[datasetWithAntibodies.Filter]) )\n",
    "print(\"Accuracy (weighted):\", (accuracy * table_s3.Assigned_events).sum() / table_s3.Assigned_events.sum() )\n",
    "print(\"Accuracy (simple):\", accuracy.mean())\n"
   ]
  },
  {
   "cell_type": "code",
   "execution_count": null,
   "metadata": {},
   "outputs": [],
   "source": []
  }
 ],
 "metadata": {
  "kernelspec": {
   "display_name": "Python 3",
   "language": "python",
   "name": "python3"
  },
  "language_info": {
   "codemirror_mode": {
    "name": "ipython",
    "version": 3
   },
   "file_extension": ".py",
   "mimetype": "text/x-python",
   "name": "python",
   "nbconvert_exporter": "python",
   "pygments_lexer": "ipython3",
   "version": "3.6.4"
  }
 },
 "nbformat": 4,
 "nbformat_minor": 2
}
